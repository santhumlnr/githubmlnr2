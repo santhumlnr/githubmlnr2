{
 "cells": [
  {
   "cell_type": "markdown",
   "id": "a093a300",
   "metadata": {},
   "source": [
    "# Dictionary"
   ]
  },
  {
   "cell_type": "markdown",
   "id": "7e11dde7",
   "metadata": {},
   "source": [
    "{key:value }"
   ]
  },
  {
   "cell_type": "code",
   "execution_count": 1,
   "id": "d43637ac",
   "metadata": {},
   "outputs": [],
   "source": [
    "student={'ram':78}"
   ]
  },
  {
   "cell_type": "code",
   "execution_count": 2,
   "id": "e96cb366",
   "metadata": {},
   "outputs": [
    {
     "data": {
      "text/plain": [
       "dict"
      ]
     },
     "execution_count": 2,
     "metadata": {},
     "output_type": "execute_result"
    }
   ],
   "source": [
    "type(student)"
   ]
  },
  {
   "cell_type": "code",
   "execution_count": 3,
   "id": "9cd1baa0",
   "metadata": {},
   "outputs": [
    {
     "data": {
      "text/plain": [
       "{'ram': 78}"
      ]
     },
     "execution_count": 3,
     "metadata": {},
     "output_type": "execute_result"
    }
   ],
   "source": [
    "student"
   ]
  },
  {
   "cell_type": "code",
   "execution_count": 4,
   "id": "a8ae8c9b",
   "metadata": {},
   "outputs": [
    {
     "data": {
      "text/plain": [
       "78"
      ]
     },
     "execution_count": 4,
     "metadata": {},
     "output_type": "execute_result"
    }
   ],
   "source": [
    "student['ram']"
   ]
  },
  {
   "cell_type": "code",
   "execution_count": 5,
   "id": "d0a7721c",
   "metadata": {},
   "outputs": [],
   "source": [
    "student={'ram':67,'sham':89,'jhon':78,'nihar':78}"
   ]
  },
  {
   "cell_type": "code",
   "execution_count": 6,
   "id": "f6f08700",
   "metadata": {},
   "outputs": [
    {
     "data": {
      "text/plain": [
       "{'ram': 67, 'sham': 89, 'jhon': 78, 'nihar': 78}"
      ]
     },
     "execution_count": 6,
     "metadata": {},
     "output_type": "execute_result"
    }
   ],
   "source": [
    "student"
   ]
  },
  {
   "cell_type": "code",
   "execution_count": 7,
   "id": "a40ec0fd",
   "metadata": {},
   "outputs": [
    {
     "data": {
      "text/plain": [
       "78"
      ]
     },
     "execution_count": 7,
     "metadata": {},
     "output_type": "execute_result"
    }
   ],
   "source": [
    "student['jhon']"
   ]
  },
  {
   "cell_type": "code",
   "execution_count": 8,
   "id": "7238f90c",
   "metadata": {},
   "outputs": [
    {
     "data": {
      "text/plain": [
       "78"
      ]
     },
     "execution_count": 8,
     "metadata": {},
     "output_type": "execute_result"
    }
   ],
   "source": [
    "student['nihar']"
   ]
  },
  {
   "cell_type": "code",
   "execution_count": 9,
   "id": "9d559e72",
   "metadata": {},
   "outputs": [
    {
     "name": "stdout",
     "output_type": "stream",
     "text": [
      "ram\n",
      "sham\n",
      "jhon\n",
      "nihar\n"
     ]
    }
   ],
   "source": [
    "for i in student:\n",
    "    print(i)"
   ]
  },
  {
   "cell_type": "code",
   "execution_count": 10,
   "id": "de1b2dee",
   "metadata": {},
   "outputs": [
    {
     "name": "stdout",
     "output_type": "stream",
     "text": [
      "ram 67\n",
      "sham 89\n",
      "jhon 78\n",
      "nihar 78\n"
     ]
    }
   ],
   "source": [
    "for i in student:\n",
    "    print(i,student[i])"
   ]
  },
  {
   "cell_type": "code",
   "execution_count": 11,
   "id": "f193653f",
   "metadata": {},
   "outputs": [
    {
     "name": "stdout",
     "output_type": "stream",
     "text": [
      "ram\n",
      "sham\n",
      "jhon\n",
      "nihar\n"
     ]
    }
   ],
   "source": [
    "# only keystudent\n",
    "for i in student.keys():\n",
    "    print(i)"
   ]
  },
  {
   "cell_type": "code",
   "execution_count": 12,
   "id": "a8e51bd5",
   "metadata": {},
   "outputs": [
    {
     "name": "stdout",
     "output_type": "stream",
     "text": [
      "67\n",
      "89\n",
      "78\n",
      "78\n"
     ]
    }
   ],
   "source": [
    "# only values\n",
    "for i in student.values():\n",
    "    print(i)"
   ]
  },
  {
   "cell_type": "code",
   "execution_count": 13,
   "id": "db2912c3",
   "metadata": {},
   "outputs": [
    {
     "name": "stdout",
     "output_type": "stream",
     "text": [
      "ram 67\n",
      "sham 89\n",
      "jhon 78\n",
      "nihar 78\n"
     ]
    }
   ],
   "source": [
    "#both keys and values\n",
    "for i,j in student.items():\n",
    "    print(i,j)"
   ]
  },
  {
   "cell_type": "code",
   "execution_count": 14,
   "id": "a594994a",
   "metadata": {},
   "outputs": [
    {
     "data": {
      "text/plain": [
       "{'ram': 67, 'sham': 89, 'jhon': 78, 'nihar': 78}"
      ]
     },
     "execution_count": 14,
     "metadata": {},
     "output_type": "execute_result"
    }
   ],
   "source": [
    "student"
   ]
  },
  {
   "cell_type": "code",
   "execution_count": 15,
   "id": "8f70c323",
   "metadata": {},
   "outputs": [],
   "source": [
    "# add new key value pair\n",
    "student['nidhi']=65"
   ]
  },
  {
   "cell_type": "code",
   "execution_count": 16,
   "id": "d22c31e6",
   "metadata": {},
   "outputs": [
    {
     "data": {
      "text/plain": [
       "{'ram': 67, 'sham': 89, 'jhon': 78, 'nihar': 78, 'nidhi': 65}"
      ]
     },
     "execution_count": 16,
     "metadata": {},
     "output_type": "execute_result"
    }
   ],
   "source": [
    "student"
   ]
  },
  {
   "cell_type": "code",
   "execution_count": 17,
   "id": "1e62113a",
   "metadata": {},
   "outputs": [],
   "source": [
    "student['nithya']=78"
   ]
  },
  {
   "cell_type": "code",
   "execution_count": 18,
   "id": "7a9565ba",
   "metadata": {},
   "outputs": [
    {
     "data": {
      "text/plain": [
       "{'ram': 67, 'sham': 89, 'jhon': 78, 'nihar': 78, 'nidhi': 65, 'nithya': 78}"
      ]
     },
     "execution_count": 18,
     "metadata": {},
     "output_type": "execute_result"
    }
   ],
   "source": [
    "student"
   ]
  },
  {
   "cell_type": "code",
   "execution_count": 19,
   "id": "d29684c1",
   "metadata": {},
   "outputs": [],
   "source": [
    "#replace\n",
    "student['sham']=90"
   ]
  },
  {
   "cell_type": "code",
   "execution_count": 20,
   "id": "d4a8a952",
   "metadata": {},
   "outputs": [
    {
     "data": {
      "text/plain": [
       "{'ram': 67, 'sham': 90, 'jhon': 78, 'nihar': 78, 'nidhi': 65, 'nithya': 78}"
      ]
     },
     "execution_count": 20,
     "metadata": {},
     "output_type": "execute_result"
    }
   ],
   "source": [
    "student"
   ]
  },
  {
   "cell_type": "code",
   "execution_count": 21,
   "id": "3f694629",
   "metadata": {},
   "outputs": [],
   "source": [
    "s={'ram':60,'sham':70,'ram':70}"
   ]
  },
  {
   "cell_type": "code",
   "execution_count": 22,
   "id": "8e8e8813",
   "metadata": {},
   "outputs": [
    {
     "data": {
      "text/plain": [
       "{'ram': 70, 'sham': 70}"
      ]
     },
     "execution_count": 22,
     "metadata": {},
     "output_type": "execute_result"
    }
   ],
   "source": [
    "s"
   ]
  },
  {
   "cell_type": "code",
   "execution_count": 23,
   "id": "6247aefe",
   "metadata": {},
   "outputs": [
    {
     "data": {
      "text/plain": [
       "{'ram': 67, 'sham': 90, 'jhon': 78, 'nihar': 78, 'nidhi': 65, 'nithya': 78}"
      ]
     },
     "execution_count": 23,
     "metadata": {},
     "output_type": "execute_result"
    }
   ],
   "source": [
    "student"
   ]
  },
  {
   "cell_type": "code",
   "execution_count": 24,
   "id": "dcdb36bb",
   "metadata": {},
   "outputs": [
    {
     "ename": "KeyError",
     "evalue": "'neethu'",
     "output_type": "error",
     "traceback": [
      "\u001b[1;31m---------------------------------------------------------------------------\u001b[0m",
      "\u001b[1;31mKeyError\u001b[0m                                  Traceback (most recent call last)",
      "Cell \u001b[1;32mIn[24], line 1\u001b[0m\n\u001b[1;32m----> 1\u001b[0m student[\u001b[38;5;124m'\u001b[39m\u001b[38;5;124mneethu\u001b[39m\u001b[38;5;124m'\u001b[39m]\n",
      "\u001b[1;31mKeyError\u001b[0m: 'neethu'"
     ]
    }
   ],
   "source": [
    "student['neethu']"
   ]
  },
  {
   "cell_type": "markdown",
   "id": "ef3fd962",
   "metadata": {},
   "source": [
    "# Dictionary methods"
   ]
  },
  {
   "cell_type": "code",
   "execution_count": 25,
   "id": "3afbde20",
   "metadata": {},
   "outputs": [
    {
     "data": {
      "text/plain": [
       "'not found'"
      ]
     },
     "execution_count": 25,
     "metadata": {},
     "output_type": "execute_result"
    }
   ],
   "source": [
    "student.get('neethu','not found')"
   ]
  },
  {
   "cell_type": "code",
   "execution_count": 26,
   "id": "eca7a05c",
   "metadata": {},
   "outputs": [
    {
     "data": {
      "text/plain": [
       "78"
      ]
     },
     "execution_count": 26,
     "metadata": {},
     "output_type": "execute_result"
    }
   ],
   "source": [
    "student.get('nihar','not found')"
   ]
  },
  {
   "cell_type": "code",
   "execution_count": 27,
   "id": "3262e581",
   "metadata": {},
   "outputs": [
    {
     "data": {
      "text/plain": [
       "6"
      ]
     },
     "execution_count": 27,
     "metadata": {},
     "output_type": "execute_result"
    }
   ],
   "source": [
    "len(student)"
   ]
  },
  {
   "cell_type": "code",
   "execution_count": 28,
   "id": "bc82f0aa",
   "metadata": {},
   "outputs": [
    {
     "data": {
      "text/plain": [
       "{'ram': 67, 'sham': 90, 'jhon': 78, 'nihar': 78, 'nidhi': 65, 'nithya': 78}"
      ]
     },
     "execution_count": 28,
     "metadata": {},
     "output_type": "execute_result"
    }
   ],
   "source": [
    "# pop(key)\n",
    "student"
   ]
  },
  {
   "cell_type": "code",
   "execution_count": 29,
   "id": "722e7890",
   "metadata": {},
   "outputs": [
    {
     "data": {
      "text/plain": [
       "67"
      ]
     },
     "execution_count": 29,
     "metadata": {},
     "output_type": "execute_result"
    }
   ],
   "source": [
    "student.pop('ram')"
   ]
  },
  {
   "cell_type": "code",
   "execution_count": 30,
   "id": "8e64c753",
   "metadata": {},
   "outputs": [
    {
     "data": {
      "text/plain": [
       "{'sham': 90, 'jhon': 78, 'nihar': 78, 'nidhi': 65, 'nithya': 78}"
      ]
     },
     "execution_count": 30,
     "metadata": {},
     "output_type": "execute_result"
    }
   ],
   "source": [
    "student"
   ]
  },
  {
   "cell_type": "code",
   "execution_count": 31,
   "id": "cf450a01",
   "metadata": {},
   "outputs": [],
   "source": [
    "#delete\n",
    " \n",
    "del student['jhon']"
   ]
  },
  {
   "cell_type": "code",
   "execution_count": 32,
   "id": "0c7f85e1",
   "metadata": {},
   "outputs": [
    {
     "data": {
      "text/plain": [
       "{'sham': 90, 'nihar': 78, 'nidhi': 65, 'nithya': 78}"
      ]
     },
     "execution_count": 32,
     "metadata": {},
     "output_type": "execute_result"
    }
   ],
   "source": [
    "student"
   ]
  },
  {
   "cell_type": "code",
   "execution_count": 33,
   "id": "59e5f5c3",
   "metadata": {},
   "outputs": [],
   "source": [
    "del student"
   ]
  },
  {
   "cell_type": "code",
   "execution_count": 34,
   "id": "6e6ce818",
   "metadata": {},
   "outputs": [
    {
     "ename": "NameError",
     "evalue": "name 'student' is not defined",
     "output_type": "error",
     "traceback": [
      "\u001b[1;31m---------------------------------------------------------------------------\u001b[0m",
      "\u001b[1;31mNameError\u001b[0m                                 Traceback (most recent call last)",
      "Cell \u001b[1;32mIn[34], line 1\u001b[0m\n\u001b[1;32m----> 1\u001b[0m student\n",
      "\u001b[1;31mNameError\u001b[0m: name 'student' is not defined"
     ]
    }
   ],
   "source": [
    "student"
   ]
  },
  {
   "cell_type": "code",
   "execution_count": 35,
   "id": "59852fad",
   "metadata": {},
   "outputs": [],
   "source": [
    "stud={11:'sathya',22:'priya',33:'neha'}"
   ]
  },
  {
   "cell_type": "code",
   "execution_count": 36,
   "id": "8956ef0d",
   "metadata": {},
   "outputs": [
    {
     "data": {
      "text/plain": [
       "{11: 'sathya', 22: 'priya', 33: 'neha'}"
      ]
     },
     "execution_count": 36,
     "metadata": {},
     "output_type": "execute_result"
    }
   ],
   "source": [
    "stud"
   ]
  },
  {
   "cell_type": "code",
   "execution_count": 37,
   "id": "a57a0e82",
   "metadata": {},
   "outputs": [
    {
     "data": {
      "text/plain": [
       "dict"
      ]
     },
     "execution_count": 37,
     "metadata": {},
     "output_type": "execute_result"
    }
   ],
   "source": [
    "type(stud)"
   ]
  },
  {
   "cell_type": "code",
   "execution_count": 38,
   "id": "dfd3dded",
   "metadata": {},
   "outputs": [
    {
     "data": {
      "text/plain": [
       "'neha'"
      ]
     },
     "execution_count": 38,
     "metadata": {},
     "output_type": "execute_result"
    }
   ],
   "source": [
    "stud[33]"
   ]
  },
  {
   "cell_type": "code",
   "execution_count": 39,
   "id": "07ee922f",
   "metadata": {},
   "outputs": [
    {
     "data": {
      "text/plain": [
       "'priya'"
      ]
     },
     "execution_count": 39,
     "metadata": {},
     "output_type": "execute_result"
    }
   ],
   "source": [
    "stud[22]"
   ]
  },
  {
   "cell_type": "code",
   "execution_count": 40,
   "id": "70eb1f2a",
   "metadata": {},
   "outputs": [
    {
     "name": "stdout",
     "output_type": "stream",
     "text": [
      "11\n",
      "22\n",
      "33\n"
     ]
    }
   ],
   "source": [
    "for i in stud.keys():\n",
    "    print(i)"
   ]
  },
  {
   "cell_type": "code",
   "execution_count": 41,
   "id": "aa3c5378",
   "metadata": {},
   "outputs": [
    {
     "name": "stdout",
     "output_type": "stream",
     "text": [
      "sathya\n",
      "priya\n",
      "neha\n"
     ]
    }
   ],
   "source": [
    "for i in stud.values():\n",
    "    print(i)"
   ]
  },
  {
   "cell_type": "code",
   "execution_count": 42,
   "id": "f8fd628c",
   "metadata": {},
   "outputs": [
    {
     "name": "stdout",
     "output_type": "stream",
     "text": [
      "11 sathya\n",
      "22 priya\n",
      "33 neha\n"
     ]
    }
   ],
   "source": [
    "for keys,values in stud.items():\n",
    "    print(keys,values)"
   ]
  },
  {
   "cell_type": "code",
   "execution_count": 43,
   "id": "7a77a552",
   "metadata": {},
   "outputs": [
    {
     "data": {
      "text/plain": [
       "{11: 'sathya', 22: 'priya', 33: 'neha'}"
      ]
     },
     "execution_count": 43,
     "metadata": {},
     "output_type": "execute_result"
    }
   ],
   "source": [
    "stud"
   ]
  },
  {
   "cell_type": "code",
   "execution_count": 44,
   "id": "8113212a",
   "metadata": {},
   "outputs": [],
   "source": [
    "stud['branch']='CSE'"
   ]
  },
  {
   "cell_type": "code",
   "execution_count": 45,
   "id": "e0878de5",
   "metadata": {},
   "outputs": [
    {
     "data": {
      "text/plain": [
       "{11: 'sathya', 22: 'priya', 33: 'neha', 'branch': 'CSE'}"
      ]
     },
     "execution_count": 45,
     "metadata": {},
     "output_type": "execute_result"
    }
   ],
   "source": [
    "stud"
   ]
  },
  {
   "cell_type": "code",
   "execution_count": 46,
   "id": "ed56bd88",
   "metadata": {},
   "outputs": [],
   "source": [
    "stud['priya']=87"
   ]
  },
  {
   "cell_type": "code",
   "execution_count": 47,
   "id": "db0fd188",
   "metadata": {},
   "outputs": [
    {
     "data": {
      "text/plain": [
       "{11: 'sathya', 22: 'priya', 33: 'neha', 'branch': 'CSE', 'priya': 87}"
      ]
     },
     "execution_count": 47,
     "metadata": {},
     "output_type": "execute_result"
    }
   ],
   "source": [
    "stud"
   ]
  },
  {
   "cell_type": "code",
   "execution_count": 48,
   "id": "59394183",
   "metadata": {},
   "outputs": [],
   "source": [
    "stud['branch']='ECE'"
   ]
  },
  {
   "cell_type": "code",
   "execution_count": 49,
   "id": "5ff6b64d",
   "metadata": {},
   "outputs": [
    {
     "data": {
      "text/plain": [
       "{11: 'sathya', 22: 'priya', 33: 'neha', 'branch': 'ECE', 'priya': 87}"
      ]
     },
     "execution_count": 49,
     "metadata": {},
     "output_type": "execute_result"
    }
   ],
   "source": [
    "stud"
   ]
  },
  {
   "cell_type": "code",
   "execution_count": 50,
   "id": "da19d4f6",
   "metadata": {},
   "outputs": [
    {
     "ename": "KeyError",
     "evalue": "'neha'",
     "output_type": "error",
     "traceback": [
      "\u001b[1;31m---------------------------------------------------------------------------\u001b[0m",
      "\u001b[1;31mKeyError\u001b[0m                                  Traceback (most recent call last)",
      "Cell \u001b[1;32mIn[50], line 1\u001b[0m\n\u001b[1;32m----> 1\u001b[0m stud[\u001b[38;5;124m'\u001b[39m\u001b[38;5;124mneha\u001b[39m\u001b[38;5;124m'\u001b[39m]\n",
      "\u001b[1;31mKeyError\u001b[0m: 'neha'"
     ]
    }
   ],
   "source": [
    "stud['neha']"
   ]
  },
  {
   "cell_type": "code",
   "execution_count": 51,
   "id": "24094063",
   "metadata": {},
   "outputs": [
    {
     "data": {
      "text/plain": [
       "'not found'"
      ]
     },
     "execution_count": 51,
     "metadata": {},
     "output_type": "execute_result"
    }
   ],
   "source": [
    "stud.get('neha','not found')"
   ]
  },
  {
   "cell_type": "code",
   "execution_count": 52,
   "id": "b332ed46",
   "metadata": {},
   "outputs": [
    {
     "data": {
      "text/plain": [
       "'neha'"
      ]
     },
     "execution_count": 52,
     "metadata": {},
     "output_type": "execute_result"
    }
   ],
   "source": [
    "stud[33]"
   ]
  },
  {
   "cell_type": "code",
   "execution_count": 53,
   "id": "93f36eff",
   "metadata": {},
   "outputs": [
    {
     "data": {
      "text/plain": [
       "'neha'"
      ]
     },
     "execution_count": 53,
     "metadata": {},
     "output_type": "execute_result"
    }
   ],
   "source": [
    "stud.get(33,'key not found')"
   ]
  },
  {
   "cell_type": "code",
   "execution_count": 54,
   "id": "8abb401b",
   "metadata": {},
   "outputs": [
    {
     "data": {
      "text/plain": [
       "{11: 'sathya', 22: 'priya', 33: 'neha', 'branch': 'ECE', 'priya': 87}"
      ]
     },
     "execution_count": 54,
     "metadata": {},
     "output_type": "execute_result"
    }
   ],
   "source": [
    "stud\n"
   ]
  },
  {
   "cell_type": "code",
   "execution_count": 55,
   "id": "171f81c4",
   "metadata": {},
   "outputs": [
    {
     "data": {
      "text/plain": [
       "'priya'"
      ]
     },
     "execution_count": 55,
     "metadata": {},
     "output_type": "execute_result"
    }
   ],
   "source": [
    "stud.pop(22)"
   ]
  },
  {
   "cell_type": "code",
   "execution_count": 56,
   "id": "c2683331",
   "metadata": {},
   "outputs": [
    {
     "data": {
      "text/plain": [
       "{11: 'sathya', 33: 'neha', 'branch': 'ECE', 'priya': 87}"
      ]
     },
     "execution_count": 56,
     "metadata": {},
     "output_type": "execute_result"
    }
   ],
   "source": [
    "stud"
   ]
  },
  {
   "cell_type": "code",
   "execution_count": 57,
   "id": "6c145397",
   "metadata": {},
   "outputs": [
    {
     "data": {
      "text/plain": [
       "'ECE'"
      ]
     },
     "execution_count": 57,
     "metadata": {},
     "output_type": "execute_result"
    }
   ],
   "source": [
    "stud.pop('branch')"
   ]
  },
  {
   "cell_type": "code",
   "execution_count": 58,
   "id": "c6f21561",
   "metadata": {},
   "outputs": [
    {
     "data": {
      "text/plain": [
       "{11: 'sathya', 33: 'neha', 'priya': 87}"
      ]
     },
     "execution_count": 58,
     "metadata": {},
     "output_type": "execute_result"
    }
   ],
   "source": [
    "stud"
   ]
  },
  {
   "cell_type": "code",
   "execution_count": 59,
   "id": "988d5497",
   "metadata": {},
   "outputs": [],
   "source": [
    "del stud[11]"
   ]
  },
  {
   "cell_type": "code",
   "execution_count": 60,
   "id": "5283a034",
   "metadata": {},
   "outputs": [
    {
     "data": {
      "text/plain": [
       "{33: 'neha', 'priya': 87}"
      ]
     },
     "execution_count": 60,
     "metadata": {},
     "output_type": "execute_result"
    }
   ],
   "source": [
    "stud"
   ]
  },
  {
   "cell_type": "code",
   "execution_count": 61,
   "id": "09a6b77c",
   "metadata": {},
   "outputs": [],
   "source": [
    "del stud"
   ]
  },
  {
   "cell_type": "code",
   "execution_count": 62,
   "id": "b303f4c4",
   "metadata": {},
   "outputs": [],
   "source": [
    "# one employee  1:1\n",
    "# emp_id:(int)\n",
    "# emp_name:str\n",
    "# designation:str\n",
    "# salary:float\n",
    "# yearofExp:float\n",
    "# phone_num:int\n",
    "# address:str\n",
    "#    employee={'emp_id':111,'emp_name':'neethu','designation':''}  \n",
    "\n",
    "\n",
    "#  get all keys\n",
    "# get all values\n",
    "# both keys and values\n",
    "\n",
    "\n",
    "# add    \n",
    "# blood_group:str\n",
    "# yoj:int\n",
    "\n",
    "    \n",
    "# replace\n",
    "# phone_num\n",
    "\n",
    "# get method\n",
    "# length\n",
    "# pop\n",
    "# del\n",
    "\n",
    "\n"
   ]
  },
  {
   "cell_type": "code",
   "execution_count": null,
   "id": "0825a4d9",
   "metadata": {},
   "outputs": [],
   "source": []
  }
 ],
 "metadata": {
  "kernelspec": {
   "display_name": "Python 3 (ipykernel)",
   "language": "python",
   "name": "python3"
  },
  "language_info": {
   "codemirror_mode": {
    "name": "ipython",
    "version": 3
   },
   "file_extension": ".py",
   "mimetype": "text/x-python",
   "name": "python",
   "nbconvert_exporter": "python",
   "pygments_lexer": "ipython3",
   "version": "3.11.5"
  }
 },
 "nbformat": 4,
 "nbformat_minor": 5
}
