{
 "cells": [
  {
   "cell_type": "markdown",
   "id": "249d9924",
   "metadata": {},
   "source": [
    "# FOR LOOP"
   ]
  },
  {
   "cell_type": "code",
   "execution_count": 1,
   "id": "bd378732",
   "metadata": {},
   "outputs": [
    {
     "name": "stdout",
     "output_type": "stream",
     "text": [
      "g\n",
      "u\n",
      "r\n",
      "u\n",
      "k\n",
      "u\n",
      "l\n",
      "a\n"
     ]
    }
   ],
   "source": [
    "a=\"gurukula\"\n",
    "for i in a:\n",
    "    print(i)"
   ]
  },
  {
   "cell_type": "code",
   "execution_count": 2,
   "id": "f2f767e8",
   "metadata": {},
   "outputs": [
    {
     "name": "stdout",
     "output_type": "stream",
     "text": [
      "g\n",
      "u\n",
      "r\n",
      "u\n",
      "k\n",
      "u\n",
      "l\n",
      "a\n"
     ]
    }
   ],
   "source": [
    "for i in \"gurukula\":\n",
    "    print(i)"
   ]
  },
  {
   "cell_type": "code",
   "execution_count": 5,
   "id": "1670b490",
   "metadata": {},
   "outputs": [
    {
     "name": "stdout",
     "output_type": "stream",
     "text": [
      "happy learning\n",
      "20\n",
      "2.9\n",
      "program terminated\n"
     ]
    }
   ],
   "source": [
    "a=[\"happy learning\",20,2.9]\n",
    "for i in a:\n",
    "    print(i)\n",
    "print(\"program terminated\")"
   ]
  },
  {
   "cell_type": "code",
   "execution_count": 6,
   "id": "30720e61",
   "metadata": {},
   "outputs": [
    {
     "name": "stdout",
     "output_type": "stream",
     "text": [
      "total vslue is: 100\n",
      "program terminated\n"
     ]
    }
   ],
   "source": [
    "list1=[10,20,30,40]\n",
    "sum=0\n",
    "for i in list1:\n",
    "    sum=sum+i\n",
    "print(\"total vslue is:\",sum)\n",
    "print(\"program terminated\")"
   ]
  },
  {
   "cell_type": "code",
   "execution_count": 7,
   "id": "09af3457",
   "metadata": {},
   "outputs": [
    {
     "name": "stdout",
     "output_type": "stream",
     "text": [
      "10\n",
      "20\n",
      "30\n"
     ]
    }
   ],
   "source": [
    "a=(10,20,30)\n",
    "for i in a:\n",
    "    print(i)"
   ]
  },
  {
   "cell_type": "markdown",
   "id": "b1fac7d2",
   "metadata": {},
   "source": [
    "# FOR LOOP WITH RANGE FUNCTION"
   ]
  },
  {
   "cell_type": "code",
   "execution_count": 8,
   "id": "e932246e",
   "metadata": {},
   "outputs": [
    {
     "name": "stdout",
     "output_type": "stream",
     "text": [
      "1\n",
      "2\n",
      "3\n",
      "4\n",
      "5\n",
      "6\n",
      "7\n",
      "8\n",
      "9\n",
      "10\n"
     ]
    }
   ],
   "source": [
    "for i in range (1,11):\n",
    "    print(i)"
   ]
  },
  {
   "cell_type": "code",
   "execution_count": 9,
   "id": "40e09ce3",
   "metadata": {},
   "outputs": [
    {
     "name": "stdout",
     "output_type": "stream",
     "text": [
      "0\n",
      "1\n",
      "2\n",
      "3\n",
      "4\n"
     ]
    }
   ],
   "source": [
    "for i in range (5):\n",
    "    print(i)"
   ]
  },
  {
   "cell_type": "code",
   "execution_count": 11,
   "id": "a219d6c4",
   "metadata": {},
   "outputs": [
    {
     "name": "stdout",
     "output_type": "stream",
     "text": [
      "0\n",
      "2\n",
      "4\n",
      "6\n",
      "8\n",
      "10\n"
     ]
    }
   ],
   "source": [
    "for i in range(0,11,2):\n",
    "    print(i)"
   ]
  },
  {
   "cell_type": "code",
   "execution_count": 12,
   "id": "4f2160f3",
   "metadata": {},
   "outputs": [
    {
     "name": "stdout",
     "output_type": "stream",
     "text": [
      "1\n",
      "3\n",
      "5\n",
      "7\n",
      "9\n"
     ]
    }
   ],
   "source": [
    "for i in range (1,11,2):\n",
    "    print(i)"
   ]
  },
  {
   "cell_type": "code",
   "execution_count": 15,
   "id": "500480af",
   "metadata": {},
   "outputs": [
    {
     "name": "stdout",
     "output_type": "stream",
     "text": [
      "-1\n",
      "-3\n",
      "-5\n",
      "-7\n",
      "-9\n"
     ]
    }
   ],
   "source": [
    "for i in range(-1,-10,-2):\n",
    "    print(i)"
   ]
  },
  {
   "cell_type": "code",
   "execution_count": 16,
   "id": "a4a8ab1f",
   "metadata": {},
   "outputs": [
    {
     "name": "stdout",
     "output_type": "stream",
     "text": [
      "14\n"
     ]
    }
   ],
   "source": [
    "a=\"happy learning\"\n",
    "l=len(a)\n",
    "print(l)"
   ]
  },
  {
   "cell_type": "code",
   "execution_count": 17,
   "id": "8239ee8f",
   "metadata": {},
   "outputs": [
    {
     "name": "stdout",
     "output_type": "stream",
     "text": [
      "14\n",
      "h\n",
      "a\n",
      "p\n",
      "p\n",
      "y\n",
      " \n",
      "l\n",
      "e\n",
      "a\n",
      "r\n",
      "n\n",
      "i\n",
      "n\n",
      "g\n"
     ]
    }
   ],
   "source": [
    "a=\"happy learning\"\n",
    "l=len(a)\n",
    "print(l)\n",
    "for i in range(l):\n",
    "    print(a[i])"
   ]
  },
  {
   "cell_type": "code",
   "execution_count": 22,
   "id": "e984faf2",
   "metadata": {},
   "outputs": [
    {
     "name": "stdout",
     "output_type": "stream",
     "text": [
      "gurukula\n",
      "happy\n"
     ]
    }
   ],
   "source": [
    "list1=[\"gurukula\",\"happy\"]\n",
    "for i in range(len(list1)):\n",
    "    print(list1[i])\n"
   ]
  },
  {
   "cell_type": "markdown",
   "id": "3d3bad21",
   "metadata": {},
   "source": [
    "# FOR LOOP WITH ELSE"
   ]
  },
  {
   "cell_type": "code",
   "execution_count": 23,
   "id": "2529ae4a",
   "metadata": {},
   "outputs": [
    {
     "name": "stdout",
     "output_type": "stream",
     "text": [
      "0\n",
      "1\n",
      "2\n",
      "3\n",
      "4\n",
      "i am from else block\n"
     ]
    }
   ],
   "source": [
    "for x in range (0,5):\n",
    "    print(x)\n",
    "else:\n",
    "    print(\"i am from else block\")"
   ]
  },
  {
   "cell_type": "code",
   "execution_count": 24,
   "id": "920d292f",
   "metadata": {},
   "outputs": [
    {
     "name": "stdout",
     "output_type": "stream",
     "text": [
      "g\n",
      "u\n",
      "r\n",
      "u\n",
      "k\n",
      "u\n",
      "l\n",
      "a\n",
      "I am from else part\n",
      "program terminated\n"
     ]
    }
   ],
   "source": [
    "a=\"gurukula\"\n",
    "for i in a:\n",
    "    print(i)\n",
    "else:\n",
    "    print(\"I am from else part\")\n",
    "print(\"program terminated\")"
   ]
  },
  {
   "cell_type": "code",
   "execution_count": 26,
   "id": "9cb629d9",
   "metadata": {},
   "outputs": [
    {
     "name": "stdout",
     "output_type": "stream",
     "text": [
      "gurukula\n",
      "happy learning\n",
      "20\n",
      "I am from else part\n",
      "program terminated\n"
     ]
    }
   ],
   "source": [
    "a=[\"gurukula\",\"happy learning\",20]\n",
    "for i in a:\n",
    "    print(i)\n",
    "else:\n",
    "    print(\"I am from else part\")\n",
    "print(\"program terminated\")"
   ]
  },
  {
   "cell_type": "code",
   "execution_count": 27,
   "id": "cfc32dac",
   "metadata": {},
   "outputs": [
    {
     "name": "stdout",
     "output_type": "stream",
     "text": [
      "5\n",
      "10\n",
      "15\n",
      "20\n"
     ]
    }
   ],
   "source": [
    "for i in range (1,21):\n",
    "    if (i%5==0):\n",
    "        print(i)"
   ]
  },
  {
   "cell_type": "code",
   "execution_count": 28,
   "id": "0ca3d96d",
   "metadata": {},
   "outputs": [
    {
     "name": "stdout",
     "output_type": "stream",
     "text": [
      "5 divisible by 5\n",
      "10 divisible by 5\n",
      "15 divisible by 5\n",
      "20 divisible by 5\n"
     ]
    }
   ],
   "source": [
    "for i in range(1,21):\n",
    "    if(i%5==0):\n",
    "        print(i,\"divisible by 5\")"
   ]
  },
  {
   "cell_type": "code",
   "execution_count": 29,
   "id": "dd2c6d03",
   "metadata": {},
   "outputs": [
    {
     "name": "stdout",
     "output_type": "stream",
     "text": [
      "1 not divisible by 5\n",
      "2 not divisible by 5\n",
      "3 not divisible by 5\n",
      "4 not divisible by 5\n",
      "5 divisible by 5\n",
      "6 not divisible by 5\n",
      "7 not divisible by 5\n",
      "8 not divisible by 5\n",
      "9 not divisible by 5\n",
      "10 divisible by 5\n",
      "11 not divisible by 5\n",
      "12 not divisible by 5\n",
      "13 not divisible by 5\n",
      "14 not divisible by 5\n",
      "15 divisible by 5\n",
      "16 not divisible by 5\n",
      "17 not divisible by 5\n",
      "18 not divisible by 5\n",
      "19 not divisible by 5\n",
      "20 divisible by 5\n"
     ]
    }
   ],
   "source": [
    "for i in range (1,21):\n",
    "    if (i%5==0):\n",
    "        print(i,\"divisible by 5\")\n",
    "    else:\n",
    "        print(i,\"not divisible by 5\")"
   ]
  },
  {
   "cell_type": "markdown",
   "id": "4b8ef0b4",
   "metadata": {},
   "source": [
    "# NESTESD FOR LOOP"
   ]
  },
  {
   "cell_type": "code",
   "execution_count": 31,
   "id": "26a1beda",
   "metadata": {},
   "outputs": [
    {
     "name": "stdout",
     "output_type": "stream",
     "text": [
      "outer loop 0\n",
      "inner loop: happy \n",
      "inner loop: learning\n",
      "outer loop 1\n",
      "inner loop: happy \n",
      "inner loop: learning\n",
      "outer loop 2\n",
      "inner loop: happy \n",
      "inner loop: learning\n"
     ]
    }
   ],
   "source": [
    "list1=[\"happy \",\"learning\"]\n",
    "for i in range (0,3):\n",
    "    print(\"outer loop\",i)\n",
    "    for j in list1:\n",
    "        print(\"inner loop:\",j)"
   ]
  },
  {
   "cell_type": "code",
   "execution_count": 32,
   "id": "9c366d9e",
   "metadata": {},
   "outputs": [
    {
     "name": "stdout",
     "output_type": "stream",
     "text": [
      "bmw block\n",
      "bmw white\n",
      "audi block\n",
      "audi white\n"
     ]
    }
   ],
   "source": [
    "list1=[\"bmw\",\"audi\"]\n",
    "list2=[\"block\",\"white\"]\n",
    "for x in list1:\n",
    "    for y in list2:\n",
    "        print(x,y)"
   ]
  },
  {
   "cell_type": "code",
   "execution_count": null,
   "id": "3606581c",
   "metadata": {},
   "outputs": [],
   "source": []
  }
 ],
 "metadata": {
  "kernelspec": {
   "display_name": "Python 3 (ipykernel)",
   "language": "python",
   "name": "python3"
  },
  "language_info": {
   "codemirror_mode": {
    "name": "ipython",
    "version": 3
   },
   "file_extension": ".py",
   "mimetype": "text/x-python",
   "name": "python",
   "nbconvert_exporter": "python",
   "pygments_lexer": "ipython3",
   "version": "3.11.5"
  }
 },
 "nbformat": 4,
 "nbformat_minor": 5
}
