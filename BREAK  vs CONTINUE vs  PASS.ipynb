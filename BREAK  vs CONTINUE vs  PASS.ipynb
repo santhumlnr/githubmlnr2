{
 "cells": [
  {
   "cell_type": "markdown",
   "id": "fe09db31",
   "metadata": {},
   "source": [
    "# BREAK"
   ]
  },
  {
   "cell_type": "code",
   "execution_count": 1,
   "id": "39def1a6",
   "metadata": {},
   "outputs": [
    {
     "name": "stdout",
     "output_type": "stream",
     "text": [
      "0\n",
      "i am from else block\n",
      "1\n",
      "i am from else block\n",
      "2\n",
      "i am from else block\n",
      "3\n",
      "i am from else block\n",
      "4\n",
      "i am from else block\n",
      "5\n",
      "i am from else block\n",
      "6\n",
      "program terminated\n"
     ]
    }
   ],
   "source": [
    "for i in range (10):\n",
    "    print(i)\n",
    "    if (i>5):                  #0,1,2,3,4,5,6,7,8,9\n",
    "        break                       # 0>5  false\n",
    "    else:\n",
    "        print(\"i am from else block\")\n",
    "print(\"program terminated\")"
   ]
  },
  {
   "cell_type": "markdown",
   "id": "a0ada513",
   "metadata": {},
   "source": [
    "# CONTINUE"
   ]
  },
  {
   "cell_type": "code",
   "execution_count": 2,
   "id": "fa3ceb00",
   "metadata": {},
   "outputs": [
    {
     "name": "stdout",
     "output_type": "stream",
     "text": [
      "0\n",
      "i im from else block\n",
      "1\n",
      "i im from else block\n",
      "2\n",
      "i im from else block\n",
      "3\n",
      "i im from else block\n",
      "4\n",
      "i im from else block\n",
      "5\n",
      "i im from else block\n",
      "6\n",
      "7\n",
      "8\n",
      "9\n",
      "program terminated\n"
     ]
    }
   ],
   "source": [
    "for i in range (10):\n",
    "    print(i)\n",
    "    if (i>5):\n",
    "        continue\n",
    "    else:\n",
    "        print(\"i im from else block\")\n",
    "print(\"program terminated\")"
   ]
  },
  {
   "cell_type": "markdown",
   "id": "4c84e2e0",
   "metadata": {},
   "source": [
    "# PASS"
   ]
  },
  {
   "cell_type": "code",
   "execution_count": 3,
   "id": "b18ba323",
   "metadata": {},
   "outputs": [
    {
     "name": "stdout",
     "output_type": "stream",
     "text": [
      "0\n",
      " i am from else block\n",
      "1\n",
      " i am from else block\n",
      "2\n",
      " i am from else block\n",
      "3\n",
      " i am from else block\n",
      "4\n",
      " i am from else block\n",
      "5\n",
      " i am from else block\n",
      "6\n",
      "7\n",
      "8\n",
      "9\n",
      "program terminated\n"
     ]
    }
   ],
   "source": [
    "for i in range (10):\n",
    "    print(i)\n",
    "    if (i>5):\n",
    "        pass\n",
    "    else:\n",
    "        print(\" i am from else block\")\n",
    "print(\"program terminated\")"
   ]
  },
  {
   "cell_type": "code",
   "execution_count": null,
   "id": "4703e088",
   "metadata": {},
   "outputs": [],
   "source": []
  }
 ],
 "metadata": {
  "kernelspec": {
   "display_name": "Python 3 (ipykernel)",
   "language": "python",
   "name": "python3"
  },
  "language_info": {
   "codemirror_mode": {
    "name": "ipython",
    "version": 3
   },
   "file_extension": ".py",
   "mimetype": "text/x-python",
   "name": "python",
   "nbconvert_exporter": "python",
   "pygments_lexer": "ipython3",
   "version": "3.11.5"
  }
 },
 "nbformat": 4,
 "nbformat_minor": 5
}
